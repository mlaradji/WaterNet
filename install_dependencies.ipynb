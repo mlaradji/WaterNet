{
 "cells": [
  {
   "cell_type": "code",
   "execution_count": 6,
   "metadata": {},
   "outputs": [],
   "source": [
    "## Run this entire notebook to install autokeras and any of its dependencies. \n",
    "### Note that pip is only used to install autokeras. All other dependencies are installed via conda.\n",
    "\n",
    "## Reference: https://jakevdp.github.io/blog/2017/12/05/installing-python-packages-from-jupyter/"
   ]
  },
  {
   "cell_type": "code",
   "execution_count": 7,
   "metadata": {},
   "outputs": [
    {
     "name": "stdout",
     "output_type": "stream",
     "text": [
      "/home/mlaradji/.conda/envs/autokeras-WaterNet\n",
      "/home/mlaradji/.conda/envs/autokeras-WaterNet/bin/python\n"
     ]
    }
   ],
   "source": [
    "import sys\n",
    "\n",
    "print(sys.prefix) # conda prefix. Make sure it is the right one. If not, change it from the Kernel dropdown menu.\n",
    "print(sys.executable) # Just a sanity check."
   ]
  },
  {
   "cell_type": "code",
   "execution_count": 8,
   "metadata": {},
   "outputs": [
    {
     "name": "stdout",
     "output_type": "stream",
     "text": [
      "Warning: 'conda-forge' already in 'channels' list, moving to the top\n"
     ]
    }
   ],
   "source": [
    "# Add channels\n",
    "!conda config --add channels conda-forge"
   ]
  },
  {
   "cell_type": "code",
   "execution_count": 9,
   "metadata": {},
   "outputs": [
    {
     "name": "stdout",
     "output_type": "stream",
     "text": [
      "cython setuptools scipy pytorch torchvision numpy scikit-learn tqdm pytest pytest-cov coverage keras requests matplotlib rasterio h5py keras-applications keras-preprocessing protobuf ncurses fiona hyperopt \n"
     ]
    }
   ],
   "source": [
    "# Prerequisites installable using conda.\n",
    "prereq_lst = []\n",
    "# Prerequisites for autokeras\n",
    "#prereq_lst.extend([\"cython\", \"'setuptools 39.1.0'\",'scipy' ,\"'pytorch 0.4.1'\",\"'torchvision 0.2.1'\",\"'numpy 1.14.5'\",\"'scikit-learn 0.19.1'\",\"'keras 2.2.2'\",\"'tqdm 4.25.0'\",\"'pytest'\",\"'pytest-cov'\",\"'coverage'\"])\n",
    "prereq_lst.extend([\"cython\", \"setuptools\",'scipy' ,\"pytorch\",\"torchvision\",\"numpy\",\"scikit-learn\",\"tqdm\",\"pytest\",\"pytest-cov\",\"coverage\", \"keras\", \"requests\"])\n",
    "\n",
    "# Prerequisites for WaterNet\n",
    "prereq_lst.extend([\"matplotlib\",\"rasterio\",\"h5py\", \"keras-applications\", \"keras-preprocessing\", \"protobuf\", \"ncurses\", \"fiona\", \"hyperopt\"])\n",
    "\n",
    "prereq_arg = ''\n",
    "\n",
    "for prereq in prereq_lst:\n",
    "    prereq_arg += prereq + ' '\n",
    "    \n",
    "print(prereq_arg)"
   ]
  },
  {
   "cell_type": "code",
   "execution_count": 10,
   "metadata": {},
   "outputs": [
    {
     "name": "stdout",
     "output_type": "stream",
     "text": [
      "Solving environment: \\ \n",
      "Warning: 2 possible package resolutions (only showing differing packages):\n",
      "  - conda-forge::keras-2.1.6-py36_0, conda-forge::keras-preprocessing-1.0.5-py_0\n",
      "  - conda-forge::keras-2.2.4-py36_0, conda-forge::keras-preprocessing-1.0.2-pydone\n",
      "\n",
      "# All requested packages already installed.\n",
      "\n"
     ]
    }
   ],
   "source": [
    "# Install prerequisite packages for autokeras using conda. This is only installed in the current Jupyter kernel\n",
    "!conda install --yes --prefix {sys.prefix} {prereq_arg}"
   ]
  },
  {
   "cell_type": "code",
   "execution_count": 11,
   "metadata": {},
   "outputs": [
    {
     "name": "stdout",
     "output_type": "stream",
     "text": [
      "tensorflow 1.11.0 has requirement keras-applications>=1.0.5, but you have keras-applications 1.0.4.\n",
      "tensorflow 1.11.0 has requirement setuptools<=39.1.0, but you have setuptools 40.4.3.\n",
      "autokeras 0.2.18 has requirement keras==2.2.2, but you have keras 2.1.6.\n",
      "autokeras 0.2.18 has requirement scikit-learn==0.19.1, but you have scikit-learn 0.20.0.\n",
      "autokeras 0.2.18 has requirement tqdm==4.25.0, but you have tqdm 4.26.0.\n"
     ]
    }
   ],
   "source": [
    "# Install autokeras. Not used yet.\n",
    "#!{sys.executable} -m pip install autokeras GPUtil --no-deps \n",
    "!{sys.executable} -m pip check\n",
    "\n",
    "# If there are some missing packages, add them to prereq_arg."
   ]
  },
  {
   "cell_type": "code",
   "execution_count": null,
   "metadata": {},
   "outputs": [],
   "source": []
  }
 ],
 "metadata": {
  "kernelspec": {
   "display_name": "Python [conda env:autokeras-WaterNet]",
   "language": "python",
   "name": "conda-env-autokeras-WaterNet-py"
  },
  "language_info": {
   "codemirror_mode": {
    "name": "ipython",
    "version": 3
   },
   "file_extension": ".py",
   "mimetype": "text/x-python",
   "name": "python",
   "nbconvert_exporter": "python",
   "pygments_lexer": "ipython3",
   "version": "3.6.6"
  }
 },
 "nbformat": 4,
 "nbformat_minor": 2
}
