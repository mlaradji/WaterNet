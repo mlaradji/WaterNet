{
 "cells": [
  {
   "cell_type": "code",
   "execution_count": 6,
   "metadata": {},
   "outputs": [],
   "source": [
    "## Run this entire notebook to install autokeras and any of its dependencies. \n",
    "### Note that pip is only used to install autokeras. All other dependencies are installed via conda.\n",
    "\n",
    "## Reference: https://jakevdp.github.io/blog/2017/12/05/installing-python-packages-from-jupyter/"
   ]
  },
  {
   "cell_type": "code",
   "execution_count": 7,
   "metadata": {},
   "outputs": [
    {
     "name": "stdout",
     "output_type": "stream",
     "text": [
      "/home/mlaradji/.conda/envs/autokeras-WaterNet\n",
      "/home/mlaradji/.conda/envs/autokeras-WaterNet/bin/python\n"
     ]
    }
   ],
   "source": [
    "import sys\n",
    "\n",
    "print(sys.prefix) # conda prefix. Make sure it is the right one. If not, change it from the Kernel dropdown menu.\n",
    "print(sys.executable) # Just a sanity check."
   ]
  },
  {
   "cell_type": "code",
   "execution_count": 8,
   "metadata": {},
   "outputs": [
    {
     "name": "stdout",
     "output_type": "stream",
     "text": [
      "Warning: 'conda-forge' already in 'channels' list, moving to the top\n"
     ]
    }
   ],
   "source": [
    "# Add channels\n",
    "!conda config --add channels conda-forge"
   ]
  },
  {
   "cell_type": "code",
   "execution_count": 9,
   "metadata": {},
   "outputs": [
    {
     "name": "stdout",
     "output_type": "stream",
     "text": [
      "cython setuptools scipy pytorch torchvision numpy scikit-learn tqdm pytest pytest-cov coverage keras requests matplotlib rasterio h5py keras-applications keras-preprocessing protobuf ncurses fiona hyperopt \n"
     ]
    }
   ],
   "source": [
    "# Prerequisites installable using conda.\n",
    "prereq_lst = []\n",
    "# Prerequisites for autokeras\n",
    "#prereq_lst.extend([\"cython\", \"'setuptools 39.1.0'\",'scipy' ,\"'pytorch 0.4.1'\",\"'torchvision 0.2.1'\",\"'numpy 1.14.5'\",\"'scikit-learn 0.19.1'\",\"'keras 2.2.2'\",\"'tqdm 4.25.0'\",\"'pytest'\",\"'pytest-cov'\",\"'coverage'\"])\n",
    "prereq_lst.extend([\"cython\", \"setuptools\",'scipy' ,\"pytorch\",\"torchvision\",\"numpy\",\"scikit-learn\",\"tqdm\",\"pytest\",\"pytest-cov\",\"coverage\", \"keras\", \"requests\"])\n",
    "\n",
    "# Prerequisites for WaterNet\n",
    "prereq_lst.extend([\"matplotlib\",\"rasterio\",\"h5py\", \"keras-applications\", \"keras-preprocessing\", \"protobuf\", \"ncurses\", \"fiona\", \"hyperopt\"])\n",
    "\n",
    "prereq_arg = ''\n",
    "\n",
    "for prereq in prereq_lst:\n",
    "    prereq_arg += prereq + ' '\n",
    "    \n",
    "print(prereq_arg)"
   ]
  },
  {
   "cell_type": "code",
   "execution_count": null,
   "metadata": {},
   "outputs": [
    {
     "name": "stdout",
     "output_type": "stream",
     "text": [
      "Solving environment: | "
     ]
    }
   ],
   "source": [
    "# Install prerequisite packages for autokeras using conda. This is only installed in the current Jupyter kernel\n",
    "!conda install --yes --prefix {sys.prefix} {prereq_arg}"
   ]
  },
  {
   "cell_type": "code",
   "execution_count": null,
   "metadata": {},
   "outputs": [],
   "source": [
    "# Install autokeras. Not used yet.\n",
    "#!{sys.executable} -m pip install autokeras GPUtil --no-deps \n",
    "!{sys.executable} -m pip check\n",
    "\n",
    "# If there are some missing packages, add them to prereq_arg."
   ]
  },
  {
   "cell_type": "code",
   "execution_count": null,
   "metadata": {},
   "outputs": [],
   "source": []
  }
 ],
 "metadata": {
  "kernelspec": {
   "display_name": "Python [conda env:autokeras-WaterNet]",
   "language": "python",
   "name": "conda-env-autokeras-WaterNet-py"
  },
  "language_info": {
   "codemirror_mode": {
    "name": "ipython",
    "version": 3
   },
   "file_extension": ".py",
   "mimetype": "text/x-python",
   "name": "python",
   "nbconvert_exporter": "python",
   "pygments_lexer": "ipython3",
   "version": "3.6.6"
  }
 },
 "nbformat": 4,
 "nbformat_minor": 2
}
