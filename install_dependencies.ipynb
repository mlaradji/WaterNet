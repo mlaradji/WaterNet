{
 "cells": [
  {
   "cell_type": "code",
   "execution_count": 1,
   "metadata": {},
   "outputs": [],
   "source": [
    "## Run this entire notebook to install autokeras and any of its dependencies. \n",
    "### Note that pip is only used to install autokeras. All other dependencies are installed via conda.\n",
    "\n",
    "## Reference: https://jakevdp.github.io/blog/2017/12/05/installing-python-packages-from-jupyter/"
   ]
  },
  {
   "cell_type": "code",
   "execution_count": 2,
   "metadata": {},
   "outputs": [
    {
     "name": "stdout",
     "output_type": "stream",
     "text": [
      "/home/mlaradji/.conda/envs/autokeras-WaterNet\n",
      "/home/mlaradji/.conda/envs/autokeras-WaterNet/bin/python\n"
     ]
    }
   ],
   "source": [
    "import sys\n",
    "\n",
    "print(sys.prefix) # conda prefix. Make sure it is the right one. If not, change it from the Kernel dropdown menu.\n",
    "print(sys.executable) # Just a sanity check."
   ]
  },
  {
   "cell_type": "code",
   "execution_count": 3,
   "metadata": {},
   "outputs": [
    {
     "name": "stdout",
     "output_type": "stream",
     "text": [
      "Warning: 'conda-forge' already in 'channels' list, moving to the top\n"
     ]
    }
   ],
   "source": [
    "# Add channels\n",
    "!conda config --add channels conda-forge"
   ]
  },
  {
   "cell_type": "code",
   "execution_count": 4,
   "metadata": {},
   "outputs": [
    {
     "name": "stdout",
     "output_type": "stream",
     "text": [
      "cython 'setuptools 39.1.0' scipy 'pytorch 0.4.1' 'torchvision 0.2.1' 'numpy 1.14.5' 'scikit-learn 0.19.1' 'keras 2.2.2' 'tqdm 4.25.0' 'tensorflow 1.10.0' 'pytest' 'pytest-cov' 'coverage' tensorflow-gpu 'Fiona' 'Keras' 'matplotlib' 'numpy' 'rasterio' 'scikit-learn' 'h5py' ncurses \n"
     ]
    }
   ],
   "source": [
    "# Prerequisites installable using conda.\n",
    "prereq_lst = []\n",
    "# Prerequisites for autokeras\n",
    "prereq_lst.extend([\"cython\", \"'setuptools 39.1.0'\",'scipy' ,\"'pytorch 0.4.1'\",\"'torchvision 0.2.1'\",\"'numpy 1.14.5'\",\"'scikit-learn 0.19.1'\",\"'keras 2.2.2'\",\"'tqdm 4.25.0'\",\"'tensorflow 1.10.0'\",\"'pytest'\",\"'pytest-cov'\",\"'coverage'\"])\n",
    "\n",
    "# Prerequisites for WaterNet\n",
    "prereq_lst.extend(['tensorflow-gpu', \"'Fiona'\", \"'Keras'\", \"'matplotlib'\", \"'numpy'\",\"'rasterio'\",\"'scikit-learn'\", \"'h5py'\"])\n",
    "\n",
    "prereq_lst.append('ncurses')\n",
    "\n",
    "prereq_arg = ''\n",
    "\n",
    "for prereq in prereq_lst:\n",
    "    prereq_arg += prereq + ' '\n",
    "    \n",
    "print(prereq_arg)"
   ]
  },
  {
   "cell_type": "code",
   "execution_count": 5,
   "metadata": {},
   "outputs": [
    {
     "name": "stdout",
     "output_type": "stream",
     "text": [
      "Solving environment: done\n",
      "\n",
      "## Package Plan ##\n",
      "\n",
      "  environment location: /home/mlaradji/.conda/envs/autokeras-WaterNet\n",
      "\n",
      "  added / updated specs: \n",
      "    - coverage\n",
      "    - cython\n",
      "    - fiona\n",
      "    - h5py\n",
      "    - keras==2.2.2\n",
      "    - matplotlib\n",
      "    - ncurses\n",
      "    - numpy==1.14.5\n",
      "    - pytest\n",
      "    - pytest-cov\n",
      "    - pytorch==0.4.1\n",
      "    - rasterio\n",
      "    - scikit-learn==0.19.1\n",
      "    - scipy\n",
      "    - setuptools==39.1.0\n",
      "    - tensorflow-gpu\n",
      "    - tensorflow==1.10.0\n",
      "    - torchvision==0.2.1\n",
      "    - tqdm==4.25.0\n",
      "\n",
      "\n",
      "The following NEW packages will be INSTALLED:\n",
      "\n",
      "    _tflow_1100_select:  0.0.1-gpu                    \n",
      "    keras:               2.2.2-py36_0      conda-forge\n",
      "    keras-applications:  1.0.4-py_1        conda-forge\n",
      "    keras-preprocessing: 1.0.2-py_1        conda-forge\n",
      "    tensorflow:          1.10.0-py36_0     conda-forge\n",
      "    tensorflow-gpu:      1.10.0-hf154084_0            \n",
      "\n",
      "Preparing transaction: done\n",
      "Verifying transaction: done\n",
      "Executing transaction: done\n"
     ]
    }
   ],
   "source": [
    "# Install prerequisite packages for autokeras using conda. This is only installed in the current Jupyter kernel\n",
    "!conda install --yes --prefix {sys.prefix} {prereq_arg}"
   ]
  },
  {
   "cell_type": "code",
   "execution_count": 6,
   "metadata": {},
   "outputs": [
    {
     "name": "stdout",
     "output_type": "stream",
     "text": [
      "Requirement already satisfied: autokeras in /home/mlaradji/.conda/envs/autokeras-WaterNet/lib/python3.6/site-packages (0.2.17)\n",
      "No broken requirements found.\n"
     ]
    }
   ],
   "source": [
    "# Install autokeras.\n",
    "!{sys.executable} -m pip install --no-deps autokeras\n",
    "!{sys.executable} -m pip check\n",
    "\n",
    "# If there are some missing packages, add them to prereq_arg."
   ]
  }
 ],
 "metadata": {
  "kernelspec": {
   "display_name": "Python [conda env:autokeras-WaterNet]",
   "language": "python",
   "name": "conda-env-autokeras-WaterNet-py"
  },
  "language_info": {
   "codemirror_mode": {
    "name": "ipython",
    "version": 3
   },
   "file_extension": ".py",
   "mimetype": "text/x-python",
   "name": "python",
   "nbconvert_exporter": "python",
   "pygments_lexer": "ipython3",
   "version": "3.6.6"
  }
 },
 "nbformat": 4,
 "nbformat_minor": 2
}
